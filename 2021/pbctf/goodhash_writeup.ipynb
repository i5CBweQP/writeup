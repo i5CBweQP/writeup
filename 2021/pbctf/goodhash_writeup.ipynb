{
 "cells": [
  {
   "cell_type": "code",
   "execution_count": 6,
   "id": "greatest-contractor",
   "metadata": {},
   "outputs": [],
   "source": [
    "from Crypto.Cipher import AES\n",
    "from Crypto.Util.number import *\n",
    "import json\n",
    "import os\n",
    "import string\n",
    "\n",
    "import galois # https://github.com/mhostetter/galois/tree/a23bff69a59d24db372621721b5c1d8f1741b2aa\n",
    "import z3     # https://github.com/Z3Prover/z3\n",
    "\n",
    "import pwn"
   ]
  },
  {
   "cell_type": "code",
   "execution_count": 7,
   "id": "statistical-canon",
   "metadata": {},
   "outputs": [],
   "source": [
    "# Class from challenge.\n",
    "\n",
    "ACCEPTABLE = string.ascii_letters + string.digits + string.punctuation + \" \"\n",
    "\n",
    "class GoodHash:\n",
    "    def __init__(self, v=b\"\"):\n",
    "        self.key = b\"goodhashGOODHASH\"\n",
    "        self.buf = v\n",
    "\n",
    "    def update(self, v):\n",
    "        self.buf += v\n",
    "\n",
    "    def digest(self):\n",
    "        cipher = AES.new(self.key, AES.MODE_GCM, nonce=self.buf)\n",
    "        enc, tag = cipher.encrypt_and_digest(b\"\\0\" * 32)\n",
    "        return enc + tag\n",
    "\n",
    "    def hexdigest(self):\n",
    "        return self.digest().hex()"
   ]
  },
  {
   "cell_type": "code",
   "execution_count": 38,
   "id": "warming-madonna",
   "metadata": {},
   "outputs": [],
   "source": [
    "# Useful functions.\n",
    "def bit_rev(a):\n",
    "    \"\"\"Bit reverse a number.\"\"\"\n",
    "    strv = bin(int(a))[2:][::-1]\n",
    "    strv += \"0\" * (128-len(strv))\n",
    "    return int(strv, 2)\n",
    "\n",
    "def simplified_ghash (h,txt,debug_print=False):\n",
    "    \"\"\"Simplified ghash without auth text.\"\"\"\n",
    "    org_len = len(txt)\n",
    "    x = 0\n",
    "    # Pad text\n",
    "    txt = txt + bytes((16-len(txt)%16)%16)\n",
    "    for i in range(0,len(txt),16):\n",
    "        x = bit_rev((gf(bit_rev(h)) * gf(bit_rev(x ^ bytes_to_long(txt[i:i+16])))).base)\n",
    "        if debug_print:\n",
    "            print(f\"{i:2d}: {hex(x)}\")\n",
    "    return bit_rev((gf(bit_rev(h)) * gf(bit_rev(x ^ org_len*8))).base)\n",
    " "
   ]
  },
  {
   "cell_type": "markdown",
   "id": "weighted-establishment",
   "metadata": {},
   "source": [
    "## Overview\n",
    "GCM mode: Galois/Counter Mode.\n",
    "\n",
    "Only nonce change. Therefore the attack in on the IV generation.\n",
    "\n",
    "IV == GHASH(nonce) for len(nonce) != 96\n",
    "\n",
    "Therefore collision needs to be generated in GHASH.\n",
    "\n",
    "I found this [blog](https://jhafranco.com/2013/05/31/aes-gcm-implementation-in-python/) to be a helpful reference."
   ]
  },
  {
   "cell_type": "code",
   "execution_count": 8,
   "id": "legislative-messaging",
   "metadata": {},
   "outputs": [],
   "source": [
    "# Setup the field. This is what most of the operation works in.\n",
    "p = galois.irreducible_poly(2,128)\n",
    "gf = galois.GF(2**128,p)"
   ]
  },
  {
   "cell_type": "code",
   "execution_count": 25,
   "id": "proved-report",
   "metadata": {},
   "outputs": [],
   "source": [
    "# Key is constant, therefore H is constant.\n",
    "obj = AES.new(b\"goodhashGOODHASH\", AES.MODE_ECB)\n",
    "h = bytes_to_long(obj.encrypt(bytes(16)))"
   ]
  },
  {
   "cell_type": "code",
   "execution_count": 52,
   "id": "exceptional-director",
   "metadata": {},
   "outputs": [
    {
     "name": "stdout",
     "output_type": "stream",
     "text": [
      " 0: 0x415af00b3f895ec2a58423f1367d0958\n",
      "16: 0x60a704b985285e30ba94d7c6048e916\n",
      "32: 0x1e5bf91166e6de354e113956a35a7105\n",
      "48: 0x5ac2e15cde928526b3ebd11cae75fccd\n",
      "IV: 0x35cf410279885675e1c2b0ead53ae24f\n"
     ]
    }
   ],
   "source": [
    "# Looking at the generation of the IV.\n",
    "nounce = b'{\"token\" \"8ce334a2107af7e5c0e532f849ad1a23\", \"admin\" false}'\n",
    "iv = simplified_ghash(h, nounce, debug_print=True)\n",
    "print(f\"IV: {hex(iv)}\")"
   ]
  },
  {
   "cell_type": "markdown",
   "id": "magnetic-forth",
   "metadata": {},
   "source": [
    "## Generating collision in the GHASH functions.\n",
    "\n",
    "Easy parts:\n",
    "* Maintain same length: 'false' -> 'true ' so last op stays the same.\n",
    "* Have free bytes: the second 16 byte block of the nounce is entirely user specified.\n",
    "\n",
    "Annoying parts:\n",
    "* Acceptable chars only.\n",
    "\n",
    "### Hand wavey method\n",
    "\n",
    "To propage error backwards, we can divide in GF(2).\n",
    "\n",
    "Find changes to lower bits of last chars of token nounce[32:42] that will result in all lower bit error in the nouce[16:32]. That way we ensure the final data is in the acceptable char.\n",
    "\n",
    "To find the a solution to above, we find the effect of each bit, we are willing to change in nounce[32:42], on nounce[16:32]. The we find a combitnation of these (using z3) that when xor with nounce[16:32] will still result in acceptable chars."
   ]
  },
  {
   "cell_type": "code",
   "execution_count": 70,
   "id": "signed-psychology",
   "metadata": {},
   "outputs": [
    {
     "name": "stdout",
     "output_type": "stream",
     "text": [
      " 0: 0x415af00b3f895ec2a58423f1367d0958\n",
      "16: 0x60a704b985285e30ba94d7c6048e916\n",
      "32: 0x1e5bf91166e6de354e113956a35a7105\n",
      "48: 0xf618f65773c6ad8cb69180dab5da69ed\n",
      "b'{\"token\" \"8ce334a2107af7e5c0e532f849ad1a23\", \"admin\" true }'\n",
      "IV: 0x98ed09b3b153714aece0e31c1252bf2f\n",
      "\n",
      "err_4: 0x3358ff80ee634e06d95d4f2e6811d06c\n",
      "err_3: 0xc38828e8fb29e9cd9a786146f7d9d2ad\n",
      "err_2: 0x1213191645000000000000\n",
      "err_1: 0xacda170bad5428aa057a51c61baf9520\n",
      "\n",
      " 0: 0x415af00b3f895ec2a58423f1367d0958\n",
      "16: 0xc58258a3637b6c2e91d12c3a97913bbb\n",
      "32: 0x1e5bf91166f4cd2c58543956a35a7105\n",
      "48: 0x5ac2e15cde928526b3ebd11cae75fccd\n",
      "b'{\"token\" \"8ce334Rj\\xce\\xb0\\xd9\\x02(1\\xbch,\\x1e\\r$\\xe3^f849ad1a23\", \"admin\" true }'\n",
      "IV: 0x35cf410279885675e1c2b0ead53ae24f == 0x35cf410279885675e1c2b0ead53ae24f\n"
     ]
    }
   ],
   "source": [
    "bad_nounce = b'{\"token\" \"8ce334a2107af7e5c0e532f849ad1a23\", \"admin\" true }'\n",
    "bad_iv = simplified_ghash(h, bad_nounce, debug_print=True)\n",
    "print(bad_nounce)\n",
    "print(f\"IV: {hex(bad_iv)}\")\n",
    "print()\n",
    "\n",
    "error = bad_iv ^ iv\n",
    "back_error_1 = bit_rev((gf(bit_rev(error)) / gf(bit_rev(h))).base)\n",
    "back_error_2 = bit_rev((gf(bit_rev(back_error_1)) / gf(bit_rev(h))).base)\n",
    "back_error_3 = bit_rev((gf(bit_rev(back_error_2)) / gf(bit_rev(h))).base)\n",
    "back_error_4 = bit_rev((gf(bit_rev(back_error_3)) / gf(bit_rev(h))).base)\n",
    "\n",
    "print(f\"err_4: {hex(back_error_4)}\") # This could simply be xor with nounce[16:32] but that would result in unaccepted chars.\n",
    "print(f\"err_3: {hex(back_error_3)}\")\n",
    "print(f\"err_2: {hex(back_error_2)}\") # Note how this is just the error introduce by 'false' -> 'true '\n",
    "print(f\"err_1: {hex(back_error_1)}\")\n",
    "print()\n",
    "\n",
    "# Basic POC ignoring acceptable chars.\n",
    "poc_nounce = bad_nounce[:16] + long_to_bytes(bytes_to_long(bad_nounce[16:32]) ^ back_error_4) + bad_nounce[32:]\n",
    "poc_iv = simplified_ghash(h, poc_nounce, debug_print=True)\n",
    "print(poc_nounce)\n",
    "print(f\"IV: {hex(poc_iv)} == {hex(iv)}\")"
   ]
  },
  {
   "cell_type": "code",
   "execution_count": 136,
   "id": "informational-moldova",
   "metadata": {},
   "outputs": [
    {
     "name": "stdout",
     "output_type": "stream",
     "text": [
      "Original nounce: b'{\"token\" \"8ce334a2107af7e5c0e532f849ad1a23\", \"admin\" false}'\n",
      "Original hash: 54bfb3cd3d2ec069c576a100c1b47970aea5ce244fa021feac97a14942360446eb26ccdef440ac01edc577593b5e160d\n",
      "correction_4: 0xf115d030110450a114819194007485a\n",
      "correction_3: 0x501091309100f030006000000000000\n",
      "Fake nounce: b'{\"token\" \"8ce334n#l36q#=t}z)%2{hc9=*ht>b25\", \"admin\" true }'\n",
      "Fake hash: 54bfb3cd3d2ec069c576a100c1b47970aea5ce244fa021feac97a14942360446eb26ccdef440ac01edc577593b5e160d\n",
      "PASS\n"
     ]
    }
   ],
   "source": [
    "nounce = b'{\"token\" \"8ce334a2107af7e5c0e532f849ad1a23\", \"admin\" false}'\n",
    "org_hash = GoodHash(nounce).digest()\n",
    "print(f\"Original nounce: {nounce}\")\n",
    "print(f\"Original hash: {org_hash.hex()}\")\n",
    "\n",
    "want_clear = []\n",
    "want_set = []\n",
    "\n",
    "# This is the error we expect to propage back to back_error_4.\n",
    "expected_error_4 = bytes_to_long(nounce[32:48]) ^ back_error_4\n",
    "\n",
    "# For the 10 charcters that make up nounce[32:42]\n",
    "for i in range(10):\n",
    "    # Allowing for changes in the last 5 bits of each char (this will result in a probably acceptable char)\n",
    "    for j in range(5):\n",
    "        bit_mask = bit_rev(1 << ((i+6) * 8 + j))\n",
    "        back_propaged_error = bit_rev((gf(bit_mask) / gf(bit_rev(h))).base)\n",
    "        \n",
    "        want_clear.append((back_propaged_error ^ expected_error_4) & bytes_to_long(bytes([0x80] * 16)))\n",
    "        want_set.append((back_propaged_error ^ expected_error_4) & bytes_to_long(bytes([0x20] * 16)))\n",
    "\n",
    "\n",
    "\n",
    "def xor_reduce(x,pos):\n",
    "    y = z3.BitVecVal(0,128)\n",
    "    for i,x in enumerate(x):\n",
    "        y ^= z3.If(x, pos[i], z3.BitVecVal(0x00,128))\n",
    "    return y\n",
    "\n",
    "clear_data = [z3.BitVecVal(i, 128) for i in want_clear]\n",
    "set_data = [z3.BitVecVal(i, 128) for i in want_set]\n",
    "x = [z3.Bool('x%s' % i) for i in range(len(clear_data)) ]\n",
    "\n",
    "s = z3.Solver()\n",
    "# We want 8th bit cleared.\n",
    "s.add(xor_reduce(x,clear_data) == 0)\n",
    "# We want 6th bit set.\n",
    "s.add(xor_reduce(x,set_data) == bytes_to_long(bytes([0x20] * 16)))\n",
    "# Skip the trivial all zero solution.\n",
    "s.add(z3.Or(x))\n",
    "s.check()\n",
    "\n",
    "correction_3 = 0\n",
    "for i,b in enumerate(x):\n",
    "    correction_3 |= bool(s.model()[b]) << (((i//5) + 6) * 8 + ((i%5)))\n",
    "correction_4 = back_error_4 ^ bit_rev((gf(bit_rev(correction_3)) / gf(bit_rev(h))).base)\n",
    "print(f\"correction_4: {hex(correction_4)}\")\n",
    "print(f\"correction_3: {hex(correction_3)}\")\n",
    "\n",
    "fake_nounce = (nounce[:16]+\n",
    "      long_to_bytes(bytes_to_long(nounce[16:32]) ^ correction_4)+\n",
    "      long_to_bytes(bytes_to_long(nounce[32:48]) ^ correction_3)+\n",
    "      long_to_bytes(bytes_to_long(nounce[48:]) ^ 0x121319164500))\n",
    "fake_hash = GoodHash(fake_nounce).digest()\n",
    "print(f\"Fake nounce: {fake_nounce}\")\n",
    "print(f\"Fake hash: {fake_hash.hex()}\")\n",
    "\n",
    "assert org_hash == good_hash\n",
    "assert all([i in ACCEPTABLE for i in good_nounce.decode()])\n",
    "\n",
    "# This doesn't work 100% of the time but good enough.\n",
    "print(\"PASS\")"
   ]
  }
 ],
 "metadata": {
  "kernelspec": {
   "display_name": "Python 3",
   "language": "python",
   "name": "python3"
  },
  "language_info": {
   "codemirror_mode": {
    "name": "ipython",
    "version": 3
   },
   "file_extension": ".py",
   "mimetype": "text/x-python",
   "name": "python",
   "nbconvert_exporter": "python",
   "pygments_lexer": "ipython3",
   "version": "3.6.9"
  }
 },
 "nbformat": 4,
 "nbformat_minor": 5
}
