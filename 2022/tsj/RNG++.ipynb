{
 "cells": [
  {
   "cell_type": "code",
   "execution_count": 7,
   "id": "sunset-cricket",
   "metadata": {},
   "outputs": [],
   "source": [
    "import string"
   ]
  },
  {
   "cell_type": "code",
   "execution_count": 4,
   "id": "introductory-advancement",
   "metadata": {},
   "outputs": [],
   "source": [
    "# Output from challenge.\n",
    "M = 115792089237316195423570985008687907853269984665640564039457584007913129639936\n",
    "A = 86063744400850297667628777812749377798737932751281716573108946773081904916117\n",
    "C = 64628347935200268328771003490390752890895505335867420334664237461501166025747\n",
    "msg = [\n",
    "0x59fe4b12f3f85e6756189ba75cc7bfc6ebc5b9a9e0f008623dd008f9632927c2,\n",
    "0x413c3d70d09e08d2e5b10b51800b65571f3afde82ca233351cddae591c3996d2,\n",
    "0xea4aac7bf92c87cad6584d4cd8337af93afc2fd42314c02298afcdd26ec42771,\n",
    "0x8c6425226df355ccd09cc5c968b3cfa8fd606179346a66841ee5b7f6e6425409,\n",
    "0x16cd6c30d1bff2dc1ba2e6257fb37fd5c477d0952e254aa3c5c301b0e43846c8,]"
   ]
  },
  {
   "cell_type": "markdown",
   "id": "painful-celtic",
   "metadata": {},
   "source": [
    "## Observations\n",
    "* M is a power of 2 so pretty easy to leak information bytewise.\n",
    "* All the encrypted message are `[0-9]*`.\n",
    "\n",
    "## Solving\n",
    "* Try the lowest 8 bits at a time and check that all the messages decode to `[0-9]`.\n",
    "* Repeat for rest of bytes."
   ]
  },
  {
   "cell_type": "code",
   "execution_count": 12,
   "id": "unknown-atlanta",
   "metadata": {},
   "outputs": [
    {
     "name": "stdout",
     "output_type": "stream",
     "text": [
      "b'y'\n",
      "b'ry'\n",
      "b'rry'\n",
      "b'orry'\n",
      "b'sorry'\n",
      "b'_sorry'\n",
      "b'e_sorry'\n",
      "b'ge_sorry'\n",
      "b'nge_sorry'\n",
      "b'enge_sorry'\n",
      "b'lenge_sorry'\n",
      "b'llenge_sorry'\n",
      "b'allenge_sorry'\n",
      "b'hallenge_sorry'\n",
      "b'challenge_sorry'\n",
      "b'_challenge_sorry'\n",
      "b'g_challenge_sorry'\n",
      "b'ng_challenge_sorry'\n",
      "b'ing_challenge_sorry'\n",
      "b'ring_challenge_sorry'\n",
      "b'oring_challenge_sorry'\n",
      "b'boring_challenge_sorry'\n",
      "b'_boring_challenge_sorry'\n",
      "b'a_boring_challenge_sorry'\n",
      "b'_a_boring_challenge_sorry'\n",
      "b's_a_boring_challenge_sorry'\n",
      "b'is_a_boring_challenge_sorry'\n",
      "b'_is_a_boring_challenge_sorry'\n",
      "b's_is_a_boring_challenge_sorry'\n",
      "b'is_is_a_boring_challenge_sorry'\n",
      "b'his_is_a_boring_challenge_sorry'\n",
      "b'this_is_a_boring_challenge_sorry'\n",
      "b'this_is_a_boring_challenge_sorry'\n",
      "b'this_is_a_boring_challenge_sorry'\n",
      "b'this_is_a_boring_challenge_sorry'\n",
      "b'this_is_a_boring_challenge_sorry'\n"
     ]
    }
   ],
   "source": [
    "known = 0\n",
    "offset = 0\n",
    "flag = []\n",
    "for j in range(36):\n",
    "    for i in range(256):\n",
    "        S = i << (8 * offset) | known\n",
    "        vs = []\n",
    "        for m in msg:\n",
    "            S = (A * S + C) % M\n",
    "            v = ((m >> (8 * offset)) & 0xFF) ^ ((S >> (8 * offset))&0xFF)\n",
    "            vs.append(v)\n",
    "        if all([chr(i) in string.digits for i in vs[1:]]):\n",
    "            flag.append(vs[0])\n",
    "            known |= i << (8 * offset)\n",
    "            offset += 1\n",
    "            break\n",
    "    print(bytes(flag[::-1]))"
   ]
  }
 ],
 "metadata": {
  "kernelspec": {
   "display_name": "Python 3",
   "language": "python",
   "name": "python3"
  },
  "language_info": {
   "codemirror_mode": {
    "name": "ipython",
    "version": 3
   },
   "file_extension": ".py",
   "mimetype": "text/x-python",
   "name": "python",
   "nbconvert_exporter": "python",
   "pygments_lexer": "ipython3",
   "version": "3.6.9"
  }
 },
 "nbformat": 4,
 "nbformat_minor": 5
}
